{
 "cells": [
  {
   "cell_type": "markdown",
   "metadata": {},
   "source": [
    "# Coding Agents with smolagents and Gemini Flash"
   ]
  },
  {
   "cell_type": "markdown",
   "metadata": {},
   "source": [
    "## Setup"
   ]
  },
  {
   "cell_type": "markdown",
   "metadata": {},
   "source": [
    "### Libraries"
   ]
  },
  {
   "cell_type": "code",
   "execution_count": 3,
   "metadata": {},
   "outputs": [],
   "source": [
    "from smolagents import CodeAgent, DuckDuckGoSearchTool, LiteLLMModel\n",
    "import os"
   ]
  },
  {
   "cell_type": "markdown",
   "metadata": {},
   "source": [
    "### Gemini API Key"
   ]
  },
  {
   "cell_type": "code",
   "execution_count": 1,
   "metadata": {},
   "outputs": [],
   "source": [
    "os.environ[\"GEMINI_API_KEY\"] = \"API Key Goes Here\""
   ]
  },
  {
   "cell_type": "code",
   "execution_count": 4,
   "metadata": {},
   "outputs": [],
   "source": [
    "# Gemini\n",
    "model = LiteLLMModel(model_id=\"gemini/gemini-1.5-flash\")"
   ]
  },
  {
   "cell_type": "code",
   "execution_count": 14,
   "metadata": {},
   "outputs": [],
   "source": [
    "# Ollama (Llama3.2)\n",
    "# model = LiteLLMModel(model_id=\"ollama/llama3.2\")\n"
   ]
  },
  {
   "cell_type": "markdown",
   "metadata": {},
   "source": [
    "## Agent Creation"
   ]
  },
  {
   "cell_type": "code",
   "execution_count": 5,
   "metadata": {},
   "outputs": [],
   "source": [
    "# Define the Feature Selection Agent\n",
    "feature_selection_agent = CodeAgent(\n",
    "    tools=[DuckDuckGoSearchTool], # search internet if necessary\n",
    "    additional_authorized_imports=['pandas','statsmodels','sklearn','numpy','json'], # packages for code interpreter\n",
    "    model=model # model set above\n",
    ")\n"
   ]
  },
  {
   "cell_type": "markdown",
   "metadata": {},
   "source": [
    "### Set Task Prompt"
   ]
  },
  {
   "cell_type": "code",
   "execution_count": 6,
   "metadata": {},
   "outputs": [],
   "source": [
    "# Task for the agent\n",
    "task = \"\"\"\n",
    "1. Load the Diabetes dataset from the 'sklearn' library using the following code:\n",
    "        from sklearn.datasets import load_diabetes\n",
    "        import pandas as pd\n",
    "\n",
    "        # Load the dataset\n",
    "        data, target = load_diabetes(return_X_y=True, as_frame=False)\n",
    "\n",
    "        # Create a DataFrame\n",
    "        df = pd.DataFrame(data, columns=load_diabetes().feature_names)\n",
    "        df['target'] = target\n",
    "2. Split data with a train/test split of 75%/25%\n",
    "3. Create a linear regression model on the training data predicting the target variable using the \"sklearn\" or \"statsmodels\" library.\n",
    "4. Execute on a strategy of combination of up to 3 predictors that attains the lowest root mean square error (RMSE) on the testing data. \n",
    "   (You can't use the target variable).\n",
    "5. Use feature engineering as needed to improve model performance.\n",
    "6. Based on the lowest RMSE of each model for the testing data, provide a final list of predictors for the top 5 models\n",
    "7. Output as a table\n",
    "\"\"\""
   ]
  },
  {
   "cell_type": "markdown",
   "metadata": {},
   "source": [
    "## Execute the agent and task"
   ]
  },
  {
   "cell_type": "code",
   "execution_count": null,
   "metadata": {},
   "outputs": [],
   "source": [
    "result = feature_selection_agent.run(task)"
   ]
  }
 ],
 "metadata": {
  "kernelspec": {
   "display_name": "smol_env",
   "language": "python",
   "name": "python3"
  },
  "language_info": {
   "codemirror_mode": {
    "name": "ipython",
    "version": 3
   },
   "file_extension": ".py",
   "mimetype": "text/x-python",
   "name": "python",
   "nbconvert_exporter": "python",
   "pygments_lexer": "ipython3",
   "version": "3.12.8"
  }
 },
 "nbformat": 4,
 "nbformat_minor": 2
}
